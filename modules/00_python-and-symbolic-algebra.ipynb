{
 "cells": [
  {
   "cell_type": "markdown",
   "id": "ca21e932-3359-480b-9737-fababccedb33",
   "metadata": {},
   "source": [
    "Lesson 0.1: How will we use the Python programming language in CHE 303/L?\n",
    "===\n",
    "\n",
    "Part of why physical chemistry is so challenging to learn is because it describes chemical phenomena in terms of the physical laws which govern them in the language of mathematics, which can feel like studying abroad in a country whose language is not your own and still trying to learn. While using mathematics is a necessary part of _doing_ physical chemistry, this semester we will develop various _cyberinfrastructure skills_ that will lower the barrier to learning physical chemistry by helping us to  \"speak\" mathematics without first needing to become fluent ourselves. Many of these skills will be developed along the way, but let's start with some basics and work through a few specific examples that showcase the power of this approach.\n",
    "\n",
    "## Learning Outcomes\n",
    "At the end of this lesson, students will be able to...\n",
    "1. Assign values to variables\n",
    "2. Use the `print()` function to check how code is working\n",
    "3. Use a `for` loop to perform actions on `list` items and add new items with `.append()`\n",
    "4. Define algebraic variables and expressions using the `algebra_with_sympy` library\n",
    "5. Manipulate algebraic expressions to solve for a single variable\n",
    "6. Substitute numerical values and units into algebraic expressions\n",
    "\n",
    "## Prerequisites\n",
    "Students are not expected to have any coding background, however the examples we will be using to develop the above cyberinfrastructure skills are built on gas law examples from CHE 110.\n",
    "\n",
    "## Resources\n",
    "- [MolSSI Workshop: Python Scripting for Computational Molecular Sciences](https://education.molssi.org/python_scripting_cms/)\n",
    "- [MolSSI CMS Python Workshop: Introduction](https://education.molssi.org/python_scripting_cms/01-introduction/index.html)\n",
    "- [Algebra with SymPy Documentation](https://gutow.github.io/Algebra_with_Sympy/algebra_with_sympy.html)\n",
    "- [Demonstrations of `algebra_with_sympy` functionality with the `Equation` class](https://gutow.github.io/Algebra_with_Sympy/Demonstration%20of%20equation%20class.html)\n",
    "\n",
    "## References\n",
    "Portions of this lesson were adapted from: \n",
    "1. Ringer McDonald, A., & Nash, J. (2019). Python Data and Scripting Workshop for Computational Molecular Scientists (Version 2020.06.01). \n",
    "The Molecular Sciences Software Institute. https://doi.org/10.34974/MXV2-EA38\n",
    "2. [Algebra with SymPy Documentation](https://gutow.github.io/Algebra_with_Sympy/algebra_with_sympy.html)"
   ]
  },
  {
   "cell_type": "markdown",
   "id": "a3b455e7-e186-4459-97fc-a1ce49822c38",
   "metadata": {},
   "source": [
    "# I. Introduction to Python\n",
    "\n",
    "For this portion of the lesson, we will be using [this lesson](https://education.molssi.org/python_scripting_cms/01-introduction/index.html) from the Molecular Sciences Software Institute's \"Python Scripting for Computational Molecular Science\" workshop. If at any time you encounter an error or have a question, place your red sticky note on the back of your computer screen/monitor and Dr. Sirianni will be around to help troubleshoot.\n",
    "\n",
    "**Directions:** \n",
    "1. Navigate to the workshop linked above and follow along with the tutorial.\n",
    "2. In the \"Setting up your Jupyter notebooks\" section, you'll learn to change between Markdown cells (for formatted text) and Code cells (for runnable Python code). As you are following along with the tutorial, start each new section with a new Markdown cell that contains the section title as a subheading (with two pound symbols).\n",
    "    > **Note**: Jupyter notebooks (the file we're working in right now) have changed since the MolSSI workshop was written, so some menu items may be in different locations or the interface may look a little different than the images shown in the workshop page. If you have any questions, put up your red flag and Dr. Sirianni will be around to help.\n",
    "3. Whenever the tutorial has a purple callout box with the title \"Python,\" you should type its contents exactly in a new code cell, making sure your output matches the contents of the grey \"Output\" callout box.\n",
    "    > If a purple \"Python\" callout box is not accompanied by a grey \"Output\" callout, **do not type the contents of the Python box.** These Python callouts contain syntax examples that are not, themselves, executable code and will raise an error.\n",
    "4. When you come across a brown/orange \"Check your Understanding\" callout, try to imagine what the provided code will do and write it down in a new Markdown cell _before_ clicking on the tan \"Answer\" dropdown.\n",
    "5. When you come across a brown/orange \"Exercise\" callout, follow the prompt's directions _before_ clicking on the tan \"Solution\" dropdown."
   ]
  },
  {
   "cell_type": "code",
   "execution_count": 2,
   "id": "dda681f6-2700-4e91-98d8-4b5639e296c0",
   "metadata": {},
   "outputs": [
    {
     "data": {
      "text/plain": [
       "10"
      ]
     },
     "execution_count": 2,
     "metadata": {},
     "output_type": "execute_result"
    }
   ],
   "source": [
    "3+7"
   ]
  },
  {
   "cell_type": "code",
   "execution_count": 12,
   "id": "e48a86d3",
   "metadata": {},
   "outputs": [
    {
     "name": "stdout",
     "output_type": "stream",
     "text": [
      "-3640.7000000000003\n",
      "-3640700.0000000005\n"
     ]
    },
    {
     "data": {
      "text/plain": [
       "-2640.7000000000003"
      ]
     },
     "execution_count": 12,
     "metadata": {},
     "output_type": "execute_result"
    }
   ],
   "source": [
    "deltaH = -541.5\n",
    "deltaS = 10.4\n",
    "temp = 298\n",
    "deltaG = deltaH - temp * deltaS\n",
    "print(deltaG)\n",
    "deltaG = deltaG * 1000\n",
    "print(deltaG)\n",
    "deltaG\n",
    "deltaG = deltaG / 1000\n",
    "deltaG = deltaG + 1000\n",
    "deltaG"
   ]
  },
  {
   "cell_type": "markdown",
   "id": "9e89b307",
   "metadata": {},
   "source": [
    "# Data Types"
   ]
  },
  {
   "cell_type": "code",
   "execution_count": 18,
   "id": "2253e8c2",
   "metadata": {},
   "outputs": [
    {
     "data": {
      "text/plain": [
       "str"
      ]
     },
     "execution_count": 18,
     "metadata": {},
     "output_type": "execute_result"
    }
   ],
   "source": [
    "type(\"yarray yarray\") "
   ]
  },
  {
   "cell_type": "code",
   "execution_count": 24,
   "id": "87aab1a3",
   "metadata": {},
   "outputs": [
    {
     "data": {
      "text/plain": [
       "[-13.4, -2.7, 5.4, 42.1]"
      ]
     },
     "execution_count": 24,
     "metadata": {},
     "output_type": "execute_result"
    }
   ],
   "source": [
    "energy_kcal = [-13.4, -2.7, 5.4, 42.1]\n",
    "len(energy_kcal)\n",
    "energy_kcal[0]\n",
    "energy_kcal[:]"
   ]
  },
  {
   "cell_type": "code",
   "execution_count": 25,
   "id": "798d7186",
   "metadata": {},
   "outputs": [
    {
     "name": "stdout",
     "output_type": "stream",
     "text": [
      "-56.0656\n",
      "-11.296800000000001\n",
      "22.593600000000002\n",
      "176.1464\n"
     ]
    }
   ],
   "source": [
    "for kcal in energy_kcal:\n",
    "    print(kcal * 4.184)"
   ]
  },
  {
   "cell_type": "code",
   "execution_count": 27,
   "id": "f195ea06",
   "metadata": {},
   "outputs": [
    {
     "data": {
      "text/plain": [
       "[-56.0656, -11.296800000000001, 22.593600000000002, 176.1464]"
      ]
     },
     "execution_count": 27,
     "metadata": {},
     "output_type": "execute_result"
    }
   ],
   "source": [
    "energy_kJ = []\n",
    "for kcal in energy_kcal:\n",
    "    energy_kJ.append(kcal*4.184)\n",
    "\n",
    "energy_kJ"
   ]
  },
  {
   "cell_type": "markdown",
   "id": "c0bef4f7-2ab1-4204-8f35-937cdec4f100",
   "metadata": {},
   "source": [
    "While the expression above is not incorrect, it is a little weird that our newly isolated variable $T$ is on the right hand side (RHS) of our `Equation`, instead of the left hand side (LHS) where we're used to seeing it. If this bothers you, you can always use the `.swap()` method to flip the RHS and LHS of an `Equation`.\n",
    "\n",
    "Input:\n",
    "```python\n",
    "ideal_T.swap()\n",
    "```\n",
    "\n",
    "Output:\n",
    "$$ T = \\frac{PV}{Rn}$$"
   ]
  },
  {
   "cell_type": "markdown",
   "id": "ff1a8995-7a6a-4b54-b378-a932ecc36f6b",
   "metadata": {},
   "source": [
    "## Evaluating an `Equation` by Substituting Numbers and Units with `.subs()`\n",
    "\n",
    "Once you've rearranged your `Equation` to solve for the desired math variable, you may evaluate your `Equation` by substituting in values and units for the other math variables and constants. To do so, units must first be declared using the `units()` function, which behaves the same way as the `var()` function earlier. For example, to declare units of meters, seconds, and kilograms, you would type\n",
    "```python\n",
    "units('m s kg')\n",
    "```\n",
    "Once units have been declared, values and units can be substituted into our `Equation` object by passing a _Python dictionary_ (of type `dict`) to the `Equation.subs()` method. \n",
    "\n",
    ">#### Brief aside: Python Dictionaries\n",
    ">Python `dict`s are objects which associate values with keys that are used to \"look them up,\" and are defined by placing comma-separated `key: value` pairs inside curly braces like the following:\n",
    ">```python\n",
    ">new_dict = {'key_1': 'value 1', 'key_2': 'value 2', 'key_3': 3, 'key_4': ideal_T}\n",
    ">```\n",
    ">In general, a dictionary's keys should be defined as strings (type `str`), and behave like Python variables that only live inside the dictionary. The dictionary's values, on the other hand, can be any mixture of types (i.e., not all entries in the dictionary must be of the same type). To access the value associated with a particular key in the dictionary, you would use square brackets `[]`:\n",
    ">```python\n",
    ">print(new_dict[key_1])\n",
    ">\n",
    ">Output: 'value_1'\n",
    ">```\n",
    ">This is similar to accessing a member of a `list`, except instead of passing the member's index, you pass the name of the desired value's key inside the brackets.\n",
    "\n",
    "Now, let's evaluate the pressure of 1.00 mol of an ideal gas at 273 K in a 24.0 L vessel. After declaring your units, build a dictionary whose keys are the variables in your `Equation` to which we are substituting and whose values are the numerical value & units being substituted. For this example, this would look like\n",
    "```python\n",
    "units('L atm mol K')\n",
    "d = {R: 0.08206*L*atm/mol/K, T: 273*K, n: 1.00*mol, V: 24.0*L}\n",
    "ideal_P.subs(d)\n",
    "```\n",
    "which should yield the output\n",
    "$$P = 0.9334325atm$$\n",
    "\n",
    "In the cell below, determine the molar volume of an ideal gas at STP, i.e., the volume occupied by exactly 1 mol an ideal gas at 273.15 K and 1 bar of pressure.\n",
    ">**Hint**: Units declared with the `units()` function do not come with conversion factors! You will need to use the fact that 1 bar = 100 kPa and that 1 atm = 101.325 kPa."
   ]
  },
  {
   "cell_type": "code",
   "execution_count": null,
   "id": "a6d7071a-4b9b-477b-ba47-976ee6fc51a0",
   "metadata": {},
   "outputs": [],
   "source": [
    "# YOUR TURN: What is the molar volume of an ideal gas at STP?\n",
    "\n",
    "# Hint: Convert your ideal gas constant to be in units of L*bar/mol/K\n",
    "\n",
    "# Rearrange ideal gas law for V & define `ideal_V`\n",
    "\n",
    "# Substitute values to evaluate molar volume\n"
   ]
  },
  {
   "cell_type": "code",
   "execution_count": 28,
   "id": "84b3480f-a2c0-4e73-8563-dcd8420fa332",
   "metadata": {},
   "outputs": [],
   "source": [
    "from algebra_with_sympy import * # Automatically imports sypmy"
   ]
  },
  {
   "cell_type": "code",
   "execution_count": 29,
   "id": "9159cafa",
   "metadata": {},
   "outputs": [
    {
     "data": {
      "text/plain": [
       "(a, b, c, d)"
      ]
     },
     "execution_count": 29,
     "metadata": {},
     "output_type": "execute_result"
    }
   ],
   "source": [
    "var('a b c d')\n"
   ]
  },
  {
   "cell_type": "code",
   "execution_count": 35,
   "id": "9724f69f",
   "metadata": {},
   "outputs": [
    {
     "name": "stdout",
     "output_type": "stream",
     "text": [
      "P*V = R*T*n\n"
     ]
    },
    {
     "data": {
      "text/latex": [
       "$P=\\frac{R T n}{V}\\,\\,\\,\\,\\,\\,\\,\\,\\,\\,$(ideal_P)"
      ],
      "text/plain": [
       "Equation(P, R*T*n/V)"
      ]
     },
     "execution_count": 35,
     "metadata": {},
     "output_type": "execute_result"
    }
   ],
   "source": [
    "var('P V n R T')\n",
    "ideal_gas =@ P*V = n*R*T \n",
    "ideal_gas\n",
    "print(ideal_gas)\n",
    "ideal_P = ideal_gas / V\n",
    "ideal_P"
   ]
  },
  {
   "cell_type": "code",
   "execution_count": 38,
   "id": "60a43062",
   "metadata": {},
   "outputs": [
    {
     "data": {
      "text/latex": [
       "$\\frac{P V}{R n}=T\\,\\,\\,\\,\\,\\,\\,\\,\\,\\,$(ideal_T)"
      ],
      "text/plain": [
       "Equation(P*V/(R*n), T)"
      ]
     },
     "execution_count": 38,
     "metadata": {},
     "output_type": "execute_result"
    }
   ],
   "source": [
    "ideal_T = ideal_P * V / n / R \n",
    "ideal_T"
   ]
  },
  {
   "cell_type": "code",
   "execution_count": 39,
   "id": "69db1e35",
   "metadata": {},
   "outputs": [
    {
     "data": {
      "text/latex": [
       "$T=\\frac{P V}{R n}$"
      ],
      "text/plain": [
       "Equation(T, P*V/(R*n))"
      ]
     },
     "execution_count": 39,
     "metadata": {},
     "output_type": "execute_result"
    }
   ],
   "source": [
    "ideal_T.swap"
   ]
  },
  {
   "cell_type": "code",
   "execution_count": 42,
   "id": "1ec2bb9b",
   "metadata": {},
   "outputs": [
    {
     "data": {
      "text/latex": [
       "$V=22.709691 L$"
      ],
      "text/plain": [
       "Equation(V, 22.709691*L)"
      ]
     },
     "execution_count": 42,
     "metadata": {},
     "output_type": "execute_result"
    }
   ],
   "source": [
    "units('K bar L mol') \n",
    "Rbar = 0.08314*L*bar/mol/K\n",
    "ideal_V = ideal_gas / P\n",
    "ideal_V.subs({P: 1*bar, T: 273.15*K, n: 1.00*mol, R: Rbar})\n"
   ]
  },
  {
   "cell_type": "markdown",
   "id": "2fd30ffb",
   "metadata": {},
   "source": [
    "## Solving Equations the Easy Way"
   ]
  },
  {
   "cell_type": "code",
   "execution_count": 48,
   "id": "cb2231d6",
   "metadata": {},
   "outputs": [
    {
     "data": {
      "text/latex": [
       "$\\left\\{x=0.0314091180284441, x=0.384295440985778 - 1.40529104422421 i, x=0.384295440985778 + 1.40529104422421 i\\right\\}$"
      ],
      "text/plain": [
       "FiniteSet(Equation(x, 0.0314091180284441), Equation(x, 0.384295440985778 - 1.40529104422421*I), Equation(x, 0.384295440985778 + 1.40529104422421*I))"
      ]
     },
     "execution_count": 48,
     "metadata": {},
     "output_type": "execute_result"
    }
   ],
   "source": [
    "var('x')\n",
    "ugly =@ 15*x**3 - 12*x**2 + 32.2*x - 1 = 0\n",
    "ugly\n",
    "\n",
    "solve(ugly, x)\n"
   ]
  },
  {
   "cell_type": "code",
   "execution_count": 52,
   "id": "13773755",
   "metadata": {},
   "outputs": [
    {
     "data": {
      "text/latex": [
       "$\\left\\{v=0, v=- \\frac{e \\sqrt{\\frac{\\epsilon_{0} \\pi}{h me n}}}{2}, v=\\frac{e \\sqrt{\\frac{\\epsilon_{0} \\pi}{h me n}}}{2}\\right\\}$"
      ],
      "text/plain": [
       "FiniteSet(Equation(v, 0), Equation(v, -e*sqrt(epsilon_0*pi/(h*me*n))/2), Equation(v, e*sqrt(epsilon_0*pi/(h*me*n))/2))"
      ]
     },
     "execution_count": 52,
     "metadata": {},
     "output_type": "execute_result"
    }
   ],
   "source": [
    "var('e epsilon_0 me v n h pi')\n",
    "eqn =@ (e**2 / 4*pi*epsilon_0) * (2*pi*me*v)/(n*h)**2 = me*v**2 * (2*pi*me*v/(n*h))\n",
    "eqn\n",
    "solve(eqn,v)"
   ]
  },
  {
   "cell_type": "markdown",
   "id": "4cd612e2",
   "metadata": {},
   "source": [
    "# III. Symbolic Calculus"
   ]
  },
  {
   "cell_type": "code",
   "execution_count": 53,
   "id": "347b5e8b",
   "metadata": {},
   "outputs": [
    {
     "data": {
      "text/latex": [
       "$\\left(5 - x\\right)^{2}$"
      ],
      "text/plain": [
       "(5 - x)**2"
      ]
     },
     "execution_count": 53,
     "metadata": {},
     "output_type": "execute_result"
    }
   ],
   "source": [
    "var('x')\n",
    "f = (5-x)**2\n",
    "f"
   ]
  },
  {
   "cell_type": "code",
   "execution_count": 57,
   "id": "128e5ce6",
   "metadata": {},
   "outputs": [
    {
     "data": {
      "text/latex": [
       "$\\left\\{x=5\\right\\}$"
      ],
      "text/plain": [
       "FiniteSet(Equation(x, 5))"
      ]
     },
     "execution_count": 57,
     "metadata": {},
     "output_type": "execute_result"
    }
   ],
   "source": [
    "df = diff(f) \n",
    "to_solve =@df = 0\n",
    "solve(to_solve, x)"
   ]
  },
  {
   "cell_type": "code",
   "execution_count": 59,
   "id": "bcdfc351",
   "metadata": {},
   "outputs": [
    {
     "data": {
      "text/latex": [
       "$2 x y - z^{3} + \\cos{\\left(4 x z \\right)}$"
      ],
      "text/plain": [
       "2*x*y - z**3 + cos(4*x*z)"
      ]
     },
     "execution_count": 59,
     "metadata": {},
     "output_type": "execute_result"
    }
   ],
   "source": [
    "var('x y z')\n",
    "ugly2 = 2*x*y - z**3 + cos(4*x*z)\n",
    "ugly2"
   ]
  },
  {
   "cell_type": "code",
   "execution_count": 63,
   "id": "c49859c0",
   "metadata": {},
   "outputs": [
    {
     "data": {
      "text/latex": [
       "$64 x^{2} z \\sin{\\left(4 x z \\right)} - 32 x \\cos{\\left(4 x z \\right)}$"
      ],
      "text/plain": [
       "64*x**2*z*sin(4*x*z) - 32*x*cos(4*x*z)"
      ]
     },
     "execution_count": 63,
     "metadata": {},
     "output_type": "execute_result"
    }
   ],
   "source": [
    "diff(ugly2, y, 2)\n",
    "dz2 = diff(ugly2, z, 2)\n",
    "diff(dz2,x)"
   ]
  },
  {
   "cell_type": "code",
   "execution_count": null,
   "id": "39ed71c8",
   "metadata": {},
   "outputs": [],
   "source": []
  }
 ],
 "metadata": {
  "kernelspec": {
   "display_name": "Python 3 (ipykernel)",
   "language": "python",
   "name": "python3"
  },
  "language_info": {
   "codemirror_mode": {
    "name": "ipython",
    "version": 3
   },
   "file_extension": ".py",
   "mimetype": "text/x-python",
   "name": "python",
   "nbconvert_exporter": "python",
   "pygments_lexer": "ipython3",
   "version": "3.8.10"
  }
 },
 "nbformat": 4,
 "nbformat_minor": 5
}
